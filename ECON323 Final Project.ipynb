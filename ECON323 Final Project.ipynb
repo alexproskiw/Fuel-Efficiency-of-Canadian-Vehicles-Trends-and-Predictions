{
 "cells": [
  {
   "cell_type": "code",
   "execution_count": 3,
   "id": "3148815f",
   "metadata": {},
   "outputs": [],
   "source": [
    "import numpy as np\n",
    "import pandas as pd\n",
    "import matplotlib.pyplot as plt"
   ]
  },
  {
   "cell_type": "code",
   "execution_count": 21,
   "id": "502aabb6",
   "metadata": {},
   "outputs": [
    {
     "name": "stderr",
     "output_type": "stream",
     "text": [
      "/var/folders/7c/glh90ckd7bdfn7cc0xbs4hgr0000gn/T/ipykernel_35397/215738493.py:1: DtypeWarning: Columns (0,1,2,3,4,6,7,8,9,10,11,12,13,14) have mixed types. Specify dtype option on import or set low_memory=False.\n",
      "  fuel_cons_2023 = pd.read_csv(\"https://www.nrcan.gc.ca/sites/nrcan/files/oee/files/csv/MY2023%20Fuel%20Consumption%20Ratings.csv\", encoding=\"Windows-1252\")\n",
      "/var/folders/7c/glh90ckd7bdfn7cc0xbs4hgr0000gn/T/ipykernel_35397/215738493.py:2: DtypeWarning: Columns (0,1,2,3,4,6,7,8,9,10,11,12,13,14) have mixed types. Specify dtype option on import or set low_memory=False.\n",
      "  fuel_cons_2022 = pd.read_csv(\"https://www.nrcan.gc.ca/sites/nrcan/files/oee/files/csv/MY2022%20Fuel%20Consumption%20Ratings.csv\", encoding=\"Windows-1252\")\n",
      "/var/folders/7c/glh90ckd7bdfn7cc0xbs4hgr0000gn/T/ipykernel_35397/215738493.py:3: DtypeWarning: Columns (0,1,2,3,4,6,7,8,9,10,11,12,13,14) have mixed types. Specify dtype option on import or set low_memory=False.\n",
      "  fuel_cons_2021 = pd.read_csv(\"https://www.nrcan.gc.ca/sites/nrcan/files/oee/files/csv/MY2021%20Fuel%20Consumption%20Ratings.csv\", encoding=\"Windows-1252\")\n",
      "/var/folders/7c/glh90ckd7bdfn7cc0xbs4hgr0000gn/T/ipykernel_35397/215738493.py:4: DtypeWarning: Columns (0,1,2,3,4,6,7,8,9,10,11,12,13,14) have mixed types. Specify dtype option on import or set low_memory=False.\n",
      "  fuel_cons_2020 = pd.read_csv(\"https://www.nrcan.gc.ca/sites/nrcan/files/oee/files/csv/MY2020%20Fuel%20Consumption%20Ratings.csv\", encoding=\"Windows-1252\")\n",
      "/var/folders/7c/glh90ckd7bdfn7cc0xbs4hgr0000gn/T/ipykernel_35397/215738493.py:10: DtypeWarning: Columns (4,8,9,10,11,12) have mixed types. Specify dtype option on import or set low_memory=False.\n",
      "  fuel_cons_2010_2014 = pd.read_csv(\"https://www.nrcan.gc.ca/sites/www.rncan.gc.ca/files/oee/files/csv/MY2010-2014%20Fuel%20Consumption%20Ratings%205-cycle.csv\", encoding=\"Windows-1252\")\n"
     ]
    }
   ],
   "source": [
    "fuel_cons_2023 = pd.read_csv(\"https://www.nrcan.gc.ca/sites/nrcan/files/oee/files/csv/MY2023%20Fuel%20Consumption%20Ratings.csv\", encoding=\"Windows-1252\")\n",
    "fuel_cons_2022 = pd.read_csv(\"https://www.nrcan.gc.ca/sites/nrcan/files/oee/files/csv/MY2022%20Fuel%20Consumption%20Ratings.csv\", encoding=\"Windows-1252\")\n",
    "fuel_cons_2021 = pd.read_csv(\"https://www.nrcan.gc.ca/sites/nrcan/files/oee/files/csv/MY2021%20Fuel%20Consumption%20Ratings.csv\", encoding=\"Windows-1252\")\n",
    "fuel_cons_2020 = pd.read_csv(\"https://www.nrcan.gc.ca/sites/nrcan/files/oee/files/csv/MY2020%20Fuel%20Consumption%20Ratings.csv\", encoding=\"Windows-1252\")\n",
    "fuel_cons_2019 = pd.read_csv(\"https://www.nrcan.gc.ca/sites/nrcan/files/oee/files/csv/MY2019%20Fuel%20Consumption%20Ratings.csv\", encoding=\"Windows-1252\")\n",
    "fuel_cons_2018 = pd.read_csv(\"https://www.nrcan.gc.ca/sites/nrcan/files/oee/files/csv/MY2018%20Fuel%20Consumption%20Ratings.csv\", encoding=\"Windows-1252\")\n",
    "fuel_cons_2017 = pd.read_csv(\"https://www.nrcan.gc.ca/sites/nrcan/files/oee/files/csv/MY2017%20Fuel%20Consumption%20Ratings.csv\", encoding=\"Windows-1252\")\n",
    "fuel_cons_2016 = pd.read_csv(\"https://www.nrcan.gc.ca/sites/nrcan/files/oee/files/csv/MY2016%20Fuel%20Consumption%20Ratings.csv\", encoding=\"Windows-1252\")\n",
    "fuel_cons_2015 = pd.read_csv(\"https://www.nrcan.gc.ca/sites/nrcan/files/oee/files/csv/MY2015%20Fuel%20Consumption%20Ratings.csv\", encoding=\"Windows-1252\")\n",
    "fuel_cons_2010_2014 = pd.read_csv(\"https://www.nrcan.gc.ca/sites/www.rncan.gc.ca/files/oee/files/csv/MY2010-2014%20Fuel%20Consumption%20Ratings%205-cycle.csv\", encoding=\"Windows-1252\")\n",
    "fuel_cons_2005_2009 = pd.read_csv(\"https://www.nrcan.gc.ca/sites/www.rncan.gc.ca/files/oee/files/csv/MY2005-2009%20Fuel%20Consumption%20Ratings%205-cycle.csv\", encoding=\"Windows-1252\")\n",
    "fuel_cons_2000_2004 = pd.read_csv(\"https://www.nrcan.gc.ca/sites/www.rncan.gc.ca/files/oee/files/csv/MY2000-2004%20Fuel%20Consumption%20Ratings%205-cycle.csv\", encoding=\"Windows-1252\")\n"
   ]
  },
  {
   "cell_type": "code",
   "execution_count": null,
   "id": "d209b2bc",
   "metadata": {},
   "outputs": [],
   "source": []
  }
 ],
 "metadata": {
  "kernelspec": {
   "display_name": "Python 3 (ipykernel)",
   "language": "python",
   "name": "python3"
  },
  "language_info": {
   "codemirror_mode": {
    "name": "ipython",
    "version": 3
   },
   "file_extension": ".py",
   "mimetype": "text/x-python",
   "name": "python",
   "nbconvert_exporter": "python",
   "pygments_lexer": "ipython3",
   "version": "3.9.13"
  }
 },
 "nbformat": 4,
 "nbformat_minor": 5
}
